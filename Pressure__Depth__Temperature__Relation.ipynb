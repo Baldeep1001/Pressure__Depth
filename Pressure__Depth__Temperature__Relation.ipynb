{
 "cells": [
  {
   "cell_type": "code",
   "execution_count": 8,
   "metadata": {},
   "outputs": [
    {
     "name": "stdout",
     "output_type": "stream",
     "text": [
      "Pressure =[1.83929015]Depth + [1558.1920445]\n"
     ]
    },
    {
     "data": {
      "image/png": "[encoded data removed]",
      "text/plain": [
       "<Figure size 432x288 with 1 Axes>"
      ]
     },
     "metadata": {
      "needs_background": "light"
     },
     "output_type": "display_data"
    },
    {
     "name": "stdout",
     "output_type": "stream",
     "text": [
      "RMSE:  [22.12452091]\n",
      "Score:  [0.98209549]\n"
     ]
    }
   ],
   "source": [
    "# Importing libraries\n",
    "\n",
    "import numpy as np\n",
    "import pandas as pd\n",
    "from sklearn.model_selection import train_test_split\n",
    "import matplotlib.pyplot as plt\n",
    "import datetime as dt\n",
    "\n",
    "def LinearRegression(X,Y):\n",
    "\t# mean of our inputs and outputs\n",
    "\tx_mean = np.mean(X)\n",
    "\tglobal y_mean\n",
    "\ty_mean = np.mean(Y)\n",
    "\t#total number of values\n",
    "\tglobal n\n",
    "\tn = len(X)\n",
    "\t# using the formula to calculate the m and c\n",
    "\tnumerator = 0\n",
    "\tdenominator = 0\n",
    "\tfor i in range(n):\n",
    "\t\tnumerator += (X[i] - x_mean) * (Y[i] - y_mean)\n",
    "\t\tdenominator += (X[i] - x_mean) ** 2\n",
    "\t\t\n",
    "\tb1 = numerator / denominator\n",
    "\tb0 = y_mean - (b1 * x_mean)\n",
    "\treturn b1, b0\n",
    "def main() :\n",
    "\t# Importing dataset\n",
    "\tdf = pd.read_csv( \"depthvtemperature.csv\",delim_whitespace=True)\n",
    "\t# print(df.head())\n",
    "\t# print(df.info())\n",
    "\t# plt.scatter( df['DEPTH_m'],df['DHAP_psi'],  color = 'blue' )\n",
    "\t# plt.title( 'Depth vs Presssure' )\n",
    "\t# plt.ylabel( 'Depth' )\n",
    "\t# plt.xlabel( 'Pressure' )\n",
    "\t# plt.show()\n",
    "\tX = df['DEPTH_m']\n",
    "\tY = df['DHAP_psi']\n",
    "\tY= Y.values.reshape(-1, 1)\n",
    "\tX= X.values.reshape(-1, 1)\n",
    "\t# # Model training\n",
    "\tm,c = LinearRegression(X,Y)\n",
    "\tprint('Pressure ={}Depth + {}'.format(m,c))\n",
    "\t#plotting values \n",
    "\tx_max = np.max(X) + 100\n",
    "\tx_min = np.min(X) - 100\n",
    "\t#calculating line values of x and y\n",
    "\tx = np.linspace(x_min, x_max, 1000)\n",
    "\ty = c + m * x\n",
    "\t#plotting line \n",
    "\tplt.plot(x, y, color='#00ff00', label='Linear Regression')\n",
    "\t#plot the data point\n",
    "\tplt.scatter(X, Y, color='#ff0000', label='Data Point')\n",
    "\t# x-axis label\n",
    "\tplt.xlabel('Depth (m)')\n",
    "\t#y-axis label\n",
    "\tplt.ylabel('Pressure (psi)')\n",
    "\tplt.legend()\n",
    "\tplt.show()\n",
    "\t# Results\n",
    "\trmse = 0\n",
    "\tfor i in range(n):\n",
    "\t\ty_pred=  c + m* X[i]\n",
    "\t\trmse += (Y[i] - y_pred) ** 2\n",
    "    \n",
    "\trmse = np.sqrt(rmse/n)\n",
    "\tprint('RMSE: ',rmse)\n",
    "\n",
    "\tsumofsquares = 0\n",
    "\tsumofresiduals = 0\n",
    "\tfor i in range(n) :\n",
    "\t\ty_pred = c + m * X[i]\n",
    "\t\tsumofsquares += (Y[i] - y_mean) ** 2\n",
    "\t\tsumofresiduals += (Y[i] - y_pred) **2\n",
    "\t\t\n",
    "\tscore  = 1 - (sumofresiduals/sumofsquares)\n",
    "\tprint('Score: ',score)\n",
    "\t\n",
    "if __name__ == \"__main__\" :\n",
    "\tmain()"
   ]
  },
  {
   "cell_type": "code",
   "execution_count": 6,
   "metadata": {},
   "outputs": [
    {
     "name": "stdout",
     "output_type": "stream",
     "text": [
      "Temperature =[0.01214313]Depth + [6.36393344]\n"
     ]
    },
    {
     "data": {
      "image/png": "[encoded data removed]",
      "text/plain": [
       "<Figure size 432x288 with 1 Axes>"
      ]
     },
     "metadata": {
      "needs_background": "light"
     },
     "output_type": "display_data"
    },
    {
     "name": "stdout",
     "output_type": "stream",
     "text": [
      "RMSE:  [1.89095825]\n",
      "Score:  [0.2465865]\n"
     ]
    }
   ],
   "source": [
    "# Importing libraries\n",
    "\n",
    "import numpy as np\n",
    "import pandas as pd\n",
    "from sklearn.model_selection import train_test_split\n",
    "import matplotlib.pyplot as plt\n",
    "import datetime as dt\n",
    "\n",
    "def LinearRegression(X,Y):\n",
    "\t# mean of our inputs and outputs\n",
    "\tx_mean = np.mean(X)\n",
    "\tglobal y_mean\n",
    "\ty_mean = np.mean(Y)\n",
    "\t#total number of values\n",
    "\tglobal n\n",
    "\tn = len(X)\n",
    "\t# using the formula to calculate the m and c\n",
    "\tnumerator = 0\n",
    "\tdenominator = 0\n",
    "\tfor i in range(n):\n",
    "\t\tnumerator += (X[i] - x_mean) * (Y[i] - y_mean)\n",
    "\t\tdenominator += (X[i] - x_mean) ** 2\n",
    "\t\t\n",
    "\tb1 = numerator / denominator\n",
    "\tb0 = y_mean - (b1 * x_mean)\n",
    "\treturn b1, b0\n",
    "def main() :\n",
    "\t# Importing dataset\n",
    "\tdf = pd.read_csv( \"depthvtemperature.csv\",delim_whitespace=True)\n",
    "\t# print(df.head())\n",
    "\t# print(df.info())\n",
    "\t# plt.scatter( df['DEPTH_m'],df['DHAT_degC'],  color = 'blue' )\n",
    "\t# plt.title( 'Depth vs Temperature' )\n",
    "\t# plt.ylabel( 'Depth' )\n",
    "\t# plt.xlabel( 'Temperature' )\n",
    "\t# plt.show()\n",
    "\tX = df['DEPTH_m']\n",
    "\tY = df['DHAT_degC']\n",
    "\tY= Y.values.reshape(-1, 1)\n",
    "\tX= X.values.reshape(-1, 1)\n",
    "\t# # Model training\n",
    "\tm,c = LinearRegression(X,Y)\n",
    "\tprint('Temperature ={}Depth + {}'.format(m,c))\n",
    "\t#plotting values \n",
    "\tx_max = np.max(X) + 100\n",
    "\tx_min = np.min(X) - 100\n",
    "\t#calculating line values of x and y\n",
    "\tx = np.linspace(x_min, x_max, 1000)\n",
    "\ty = c + m * x\n",
    "\t#plotting line \n",
    "\tplt.plot(x, y, color='#00ff00', label='Linear Regression')\n",
    "\t#plot the data point\n",
    "\tplt.scatter(X, Y, color='#ff0000', label='Data Point')\n",
    "\t# x-axis label\n",
    "\tplt.xlabel('Depth (m)')\n",
    "\t#y-axis label\n",
    "\tplt.ylabel('Temperature (Deg_C)')\n",
    "\tplt.legend()\n",
    "\tplt.show()\n",
    "\t# Results\n",
    "\trmse = 0\n",
    "\tfor i in range(n):\n",
    "\t\ty_pred=  c + m* X[i]\n",
    "\t\trmse += (Y[i] - y_pred) ** 2\n",
    "    \n",
    "\trmse = np.sqrt(rmse/n)\n",
    "\tprint('RMSE: ',rmse)\n",
    "\n",
    "\tsumofsquares = 0\n",
    "\tsumofresiduals = 0\n",
    "\tfor i in range(n) :\n",
    "\t\ty_pred = c + m * X[i]\n",
    "\t\tsumofsquares += (Y[i] - y_mean) ** 2\n",
    "\t\tsumofresiduals += (Y[i] - y_pred) **2\n",
    "\t\t\n",
    "\tscore  = 1 - (sumofresiduals/sumofsquares)\n",
    "\tprint('Score: ',score)\n",
    "\t\n",
    "if __name__ == \"__main__\" :\n",
    "\tmain()"
   ]
  },
  {
   "cell_type": "code",
   "execution_count": null,
   "metadata": {},
   "outputs": [],
   "source": []
  }
 ],
 "metadata": {
  "kernelspec": {
   "display_name": "Python 3",
   "language": "python",
   "name": "python3"
  },
  "language_info": {
   "codemirror_mode": {
    "name": "ipython",
    "version": 3
   },
   "file_extension": ".py",
   "mimetype": "text/x-python",
   "name": "python",
   "nbconvert_exporter": "python",
   "pygments_lexer": "ipython3",
   "version": "3.8.5"
  }
 },
 "nbformat": 4,
 "nbformat_minor": 4
}
